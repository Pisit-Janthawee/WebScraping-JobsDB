{
 "cells": [
  {
   "cell_type": "markdown",
   "metadata": {},
   "source": [
    "# 1. Import Libraries"
   ]
  },
  {
   "cell_type": "markdown",
   "metadata": {},
   "source": [
    "### Utility"
   ]
  },
  {
   "cell_type": "code",
   "execution_count": 1,
   "metadata": {},
   "outputs": [],
   "source": [
    "from scripts.health_check import HealthCheck\n",
    "%load_ext autoreload\n",
    "%autoreload 2"
   ]
  },
  {
   "cell_type": "markdown",
   "metadata": {},
   "source": [
    "### Progress bar"
   ]
  },
  {
   "cell_type": "code",
   "execution_count": 2,
   "metadata": {},
   "outputs": [],
   "source": [
    "# For display Progress bar\n",
    "from tqdm import tqdm"
   ]
  },
  {
   "cell_type": "markdown",
   "metadata": {},
   "source": [
    "### Data Manipulation"
   ]
  },
  {
   "cell_type": "code",
   "execution_count": 3,
   "metadata": {},
   "outputs": [],
   "source": [
    "import numpy as np\n",
    "import re\n",
    "import pandas as pd\n",
    "import time\n",
    "from datetime import datetime, timedelta\n",
    "\n",
    "import json"
   ]
  },
  {
   "cell_type": "markdown",
   "metadata": {},
   "source": [
    "### HTML content"
   ]
  },
  {
   "cell_type": "code",
   "execution_count": 4,
   "metadata": {},
   "outputs": [],
   "source": [
    "from bs4 import BeautifulSoup\n",
    "import requests\n",
    "# Selenium\n",
    "from selenium import webdriver\n",
    "from selenium.webdriver.common.by import By\n",
    "from selenium.webdriver.support.ui import WebDriverWait\n",
    "from selenium.webdriver.support import expected_conditions as EC"
   ]
  },
  {
   "cell_type": "markdown",
   "metadata": {},
   "source": [
    "# 2. Facilitating functions"
   ]
  },
  {
   "cell_type": "code",
   "execution_count": 5,
   "metadata": {},
   "outputs": [],
   "source": [
    "def handle_job_function(string):\n",
    "    if string:\n",
    "        return string.replace(' ','-')\n",
    "    else:\n",
    "        return None\n",
    "    \n",
    "def handle_keyword(string):\n",
    "    if string:\n",
    "        return string.replace(' ','%20')\n",
    "    else:\n",
    "        return None\n",
    "def handle_none_text(soup_obj):\n",
    "    if soup_obj:\n",
    "        return soup_obj.text\n",
    "    else:\n",
    "        return None\n",
    "      \n",
    "def load_soup(driver, url):\n",
    "    get_url = driver.current_url\n",
    "    print(f'Loading content... {get_url}')\n",
    "    start_loading_time = time.time()\n",
    "    driver.get(f'{url}')\n",
    "    innerHTML = driver.execute_script('return document.body.innerHTML')\n",
    "    time.sleep(1)\n",
    "    loading_time = time.time() - start_loading_time\n",
    "    print(f'Loaded! Time taken: {loading_time:.2f} seconds')\n",
    "    soup = BeautifulSoup(innerHTML, \"html.parser\")\n",
    "    return soup, driver\n",
    "\n",
    "def clean_prefix_string(input_string, pattern):\n",
    "    if not isinstance(input_string, str):\n",
    "        raise ValueError(\"Input should be a string.\")\n",
    "    cleaned_string = re.sub(pattern, '', input_string)\n",
    "    return cleaned_string\n",
    "\n",
    "def extract_numerical(input_string):\n",
    "    if not isinstance(input_string, str):\n",
    "        raise ValueError(\"Input should be a string.\")\n",
    "    match = re.search(r'\\d+', input_string)\n",
    "\n",
    "    if match:\n",
    "        extracted_number = int(float(match.group()))\n",
    "        return extracted_number\n",
    "    else:\n",
    "        return None"
   ]
  },
  {
   "cell_type": "markdown",
   "metadata": {},
   "source": [
    "# 3. Scraper"
   ]
  },
  {
   "cell_type": "code",
   "execution_count": 6,
   "metadata": {},
   "outputs": [],
   "source": [
    "def jobsDB_scraper(keywords, location, job_function):\n",
    "    jobs_data = []\n",
    "    page = 1\n",
    "    base_url =\"https://th.jobsdb.com\"\n",
    "    if location:\n",
    "        url = f'{base_url}/th/jobs-in-{location}/{page}'\n",
    "        if job_function:\n",
    "            url = f'{base_url}/th/{handle_job_function(job_function)}/{page}'\n",
    "            if keywords:\n",
    "                url = f'{base_url}/th/{handle_job_function(job_function)}-jobs-in-{location}/{page}?Key={handle_keyword(keywords)}'\n",
    "            else:\n",
    "                url = f'{base_url}/th/{handle_job_function(job_function)}-jobs-in-{location}/{page}'\n",
    "    else: \n",
    "        url = f'{base_url}/th/en/Search/FindJobs?JSRV=1&page={page}'\n",
    "    driver = webdriver.Chrome()\n",
    "    driver.get(url)\n",
    "    soup, driver = load_soup(driver=driver,url=url)\n",
    "    total_objects = soup.find(\n",
    "        'div', {'class': 'z1s6m00 iw87102'})\n",
    "    n_job = handle_none_text(total_objects.find('span', {'class': 'z1s6m00 _1hbhsw64y y44q7i0 y44q7i1 y44q7i21 _1d0g9qk4 y44q7i7'}))\n",
    "    n_job = int(n_job.split(' ')[2])\n",
    "    n_page = int(np.ceil(n_job/30))\n",
    "\n",
    "    for page in tqdm(range(1,n_page+1), desc='scraping...'):\n",
    "        url = f'{base_url}/th/{handle_job_function(job_function)}-jobs-in-{location}/{page}?Key={handle_keyword(keywords)}'\n",
    "        soup, driver = load_soup(driver=driver,url=url)\n",
    "        jobs = soup.find_all(\n",
    "            'div', {'class': 'z1s6m00 _1hbhsw67i _1hbhsw66e _1hbhsw69q _1hbhsw68m _1hbhsw6n _1hbhsw65a _1hbhsw6ga _1hbhsw6fy'})\n",
    "        for job in jobs:\n",
    "            try:\n",
    "                h1 = job.find(\n",
    "                    'h1', {'class': 'z1s6m00 _1hbhsw64y y44q7i0 y44q7i3 y44q7i21 y44q7ii'})\n",
    "                if h1 is not None:\n",
    "                    a = job.find('a')\n",
    "                    url = \"https://th.jobsdb.com/\" + a.get('href')\n",
    "                    req = requests.get(url)\n",
    "                    time.sleep(0.2)\n",
    "                    soup = BeautifulSoup(req.text, \"html.parser\")\n",
    "                    position_tag = soup.find(\n",
    "                        'h1', {'class': 'z1s6m00 _1hbhsw64y y44q7i0 y44q7il _1d0g9qk4 y44q7is y44q7i21'})\n",
    "                    position = position_tag.text if position_tag else None\n",
    "\n",
    "                    company_tag = soup.find(\n",
    "                        'span', {'class': 'z1s6m00 _1hbhsw64y y44q7i0 y44q7i2 y44q7i21 _1d0g9qk4 y44q7ia'})\n",
    "                    company = company_tag.text if company_tag else None\n",
    "\n",
    "                    job_location_datetime = soup.find(\n",
    "                        'div', {'class': 'z1s6m00 _1hbhsw65a _1hbhsw65e _1hbhsw6ga kt8mbq0'})\n",
    "\n",
    "                    salary = None\n",
    "                    location = None\n",
    "                    created_datetime = None\n",
    "\n",
    "                    for index, detail in enumerate(job_location_datetime.findAll(\n",
    "                            'div', {'class': 'z1s6m00 _1hbhsw66i'})):\n",
    "                        if detail is not None:\n",
    "                            if \"THB\" in detail.text:\n",
    "                                salary = detail.text\n",
    "                            elif index == 0:\n",
    "                                location = detail.text\n",
    "                            elif index == 1:\n",
    "                                provided_datetime = detail.text\n",
    "                                # Date \n",
    "                                pattern = r'\\d{1,2}-[A-Za-z]{3}-\\d{2}'\n",
    "                                match = re.search(pattern, provided_datetime)\n",
    "                                if match:\n",
    "                                    created_datetime = match.group()\n",
    "                                    created_datetime = datetime.strptime(\n",
    "                                        created_datetime, '%d-%b-%y')\n",
    "                                # Hour ago\n",
    "                                else:\n",
    "                                    hours_ago = int(\n",
    "                                        re.search(r'\\d{1,2} hours ago', provided_datetime).group().split(' ')[0])\n",
    "                                    current_datetime = datetime.now()\n",
    "                                    created_datetime = (current_datetime - \\\n",
    "                                        timedelta(hours=hours_ago)).date()\n",
    "\n",
    "                    job_highlight = soup.find(\n",
    "                        'div', {'class': 'z1s6m00', 'data-automation': 'job-details-job-highlights'}).find_all('li', {'class': 'z1s6m00 _1hbhsw66u'})\n",
    "                    if job_highlight:\n",
    "                        job_highlight_str = \"/\".join(\n",
    "                            [highlight.text for highlight in job_highlight])\n",
    "\n",
    "                    job_description_section = soup.find(\n",
    "                        'div', {'data-automation': 'jobDescription'})\n",
    "                    if job_description_section:\n",
    "                        job_description_sub_topic = []\n",
    "                        job_description_sub_content = []\n",
    "                        # Topic\n",
    "                        for index, p_topic in enumerate(job_description_section.find_all('p')):\n",
    "                            if len(p_topic.find_all('strong')) > 1:\n",
    "                                p_content = []\n",
    "                                for strong in p_topic.find_all('strong'):\n",
    "                                    p_content.append(strong.text + '/')\n",
    "                                job_description_sub_content.append(p_content)\n",
    "\n",
    "                            elif len(p_topic.find_all('strong')) == 1:\n",
    "                                topic = p_topic.find('strong').text\n",
    "                                job_description_sub_topic.append(topic)\n",
    "\n",
    "                        # Content\n",
    "                        for index, ul in enumerate(job_description_section.find_all('ul')):\n",
    "                            ul_content = []\n",
    "                            for li in ul.find_all('li'):\n",
    "                                ul_content.append(li.text)\n",
    "                            job_description_sub_content.append(ul_content)\n",
    "                    job_description_dict = dict(\n",
    "                        zip(job_description_sub_topic, job_description_sub_content))\n",
    "                    job_qualification = job_description_section\n",
    "                    keys = []\n",
    "                    values = []\n",
    "                    for key in job_qualification.find_all('span') if job_qualification else job_qualification.find_all('br'):\n",
    "                        if key:\n",
    "                            keys.append(key.text)\n",
    "                    for value in job_qualification.find_all('ul') if job_qualification else job_qualification.find_all('span'):\n",
    "                        if value:\n",
    "                            values.append(value.text)\n",
    "                    job_qualification_dict = dict(\n",
    "                        zip(keys, values))\n",
    "                    job_level = None\n",
    "                    education_level = None\n",
    "                    year_of_work = None\n",
    "                    job_functions = None\n",
    "                    company_website = None\n",
    "                    job_type = None\n",
    "                    additional_info_section = soup.find_all(\n",
    "                        'div', {'class': 'z1s6m00 _1hbhsw6r pmwfa50 pmwfa57'})\n",
    "                    \n",
    "                    url_pattern = re.compile(r'https?://\\S+')\n",
    "\n",
    "                    for index, detail in enumerate(additional_info_section):\n",
    "                        if detail is not None:\n",
    "                            span = detail.find('span', {\n",
    "                                'class': 'z1s6m00 _1hbhsw64y y44q7i0 y44q7i3 y44q7i21 _1d0g9qk4 y44q7ia'}).text\n",
    "                            if span in [\"ระดับตำแหน่งงาน\", \"Career Level\"]:\n",
    "                                job_level = detail.text\n",
    "                                job_level = clean_prefix_string(input_string=job_level,\n",
    "                                                                    pattern='Career Level')\n",
    "                                \n",
    "                            elif span in [\"ระดับการศึกษา\", \"Qualification\"]:\n",
    "                                education_level = detail.text\n",
    "                                education_level = clean_prefix_string(input_string=education_level,\n",
    "                                                                    pattern='Qualification')\n",
    "                                \n",
    "                            elif span in [\"อายุงาน\", \"Years of Experience\"]:\n",
    "                                year_of_work = detail.text\n",
    "                                year_of_work = clean_prefix_string(input_string=year_of_work,\n",
    "                                                                    pattern='Years of Experience')\n",
    "                                year_of_work = extract_numerical(input_string=year_of_work)\n",
    "                                \n",
    "                                \n",
    "                            elif span in [\"ประเภทการจ้างงาน\", \"Job Functions\"]:\n",
    "                                job_functions = detail.text\n",
    "                                job_functions = clean_prefix_string(input_string=job_functions,\n",
    "                                                                    pattern='Job Functions')\n",
    "                                \n",
    "                            elif span in [\"เว็บไซต์บริษัท\", \"Company Website\"]:\n",
    "                                company_website = detail.text\n",
    "                                company_website = url_pattern.search(company_website).group()\n",
    "                            elif span in [\"ประเภทงาน\", \"Job Type\"]:\n",
    "                                job_type = detail.text\n",
    "                                job_type = clean_prefix_string(input_string=job_type,\n",
    "                                                                    pattern='Job Type')\n",
    "                        else:\n",
    "                            pass\n",
    "\n",
    "                    company_overview = None\n",
    "                    company_industry = None\n",
    "                    company_benefits_incentives = None\n",
    "\n",
    "                    company_detail_section = soup.find_all(\n",
    "                        'div', {'class': 'z1s6m00 _1hbhsw66y _1hbhsw673 _1hbhsw674'})\n",
    "                    for index, detail in enumerate(company_detail_section):\n",
    "                        if detail is not None:\n",
    "                            h4 = detail.find('h4', {\n",
    "                                            'class': 'z1s6m00 _1hbhsw64y y44q7i0 y44q7il _1d0g9qk4 y44q7iv y44q7i21'}).text if detail.find('h4', {\n",
    "                                            'class': 'z1s6m00 _1hbhsw64y y44q7i0 y44q7il _1d0g9qk4 y44q7iv y44q7i21'}) else None\n",
    "                            span = detail.find('span', {'class': 'z1s6m00 _1hbhsw64y y44q7i0 y44q7i3 y44q7i21 _1d0g9qk4 y44q7ia'})\n",
    "                            if h4 in [\"ข้อมูลบริษัท\", \"Company Overview\"]:\n",
    "                                company_overview = detail.text if detail else None\n",
    "                                company_overview = clean_prefix_string(input_string=company_overview,\n",
    "                                                                    pattern='Company Overview')\n",
    "\n",
    "                            elif h4 in [\"Additional Company Information\"]:\n",
    "                                spans = detail.find_all('span')\n",
    "                                for span in spans:\n",
    "                                    if span:\n",
    "                                        if span.text in [\"สวัสดิการและสิ่งจูงใจอื่น ๆ\",  \"Benefits & Others\"]:\n",
    "                                            company_benefits_incentives = span.find_next().text\n",
    "                                        elif span.text in [\"ประเภทธุรกิจ\", \"Industry\"]:\n",
    "                                            company_industry = span.find_next().text\n",
    "        \n",
    "                                        \n",
    "                job_data = {\n",
    "                    \"position\": position,\n",
    "                    \"company\": company,\n",
    "                    \"location\": location,\n",
    "                    \"salary\": salary if salary else None,\n",
    "                    \"posted_datetime\": created_datetime,\n",
    "                    \"education_level\": education_level,\n",
    "                    \"year_of_work\": year_of_work,\n",
    "                    \"job_highlight\": job_highlight_str,\n",
    "                    \"job_desc\": job_description_dict,\n",
    "                    \"qualification\": job_qualification_dict,\n",
    "                    \"job_level\": job_level,\n",
    "                    \"job_functions\": job_functions,\n",
    "                    \"job_type\": job_type,\n",
    "                    \"company_website\": company_website,\n",
    "                    \"company_overview\": company_overview,\n",
    "                    \"company_industry\": company_industry,\n",
    "                    \"company_benefits_incentives\": company_benefits_incentives,\n",
    "                    \"url\":url\n",
    "                }\n",
    "                jobs_data.append(job_data)\n",
    "                \n",
    "            except AttributeError as e:\n",
    "                print(f\"AttributeError: {e}\")\n",
    "    return pd.DataFrame(jobs_data)\n"
   ]
  },
  {
   "cell_type": "markdown",
   "metadata": {},
   "source": [
    "# 4. Example Usage"
   ]
  },
  {
   "cell_type": "code",
   "execution_count": 7,
   "metadata": {},
   "outputs": [],
   "source": [
    "keywords = \"data scientist\"\n",
    "location = \"bangkok\"\n",
    "job_function = \"information technology\""
   ]
  },
  {
   "cell_type": "code",
   "execution_count": 9,
   "metadata": {},
   "outputs": [
    {
     "name": "stdout",
     "output_type": "stream",
     "text": [
      "Loading content... https://th.jobsdb.com/th/information-technology-jobs-in-bangkok/1?Key=data%20scientist\n",
      "Loaded! Time taken: 2.96 seconds\n"
     ]
    },
    {
     "name": "stderr",
     "output_type": "stream",
     "text": [
      "scraping...:   0%|          | 0/21 [00:00<?, ?it/s]"
     ]
    },
    {
     "name": "stdout",
     "output_type": "stream",
     "text": [
      "Loading content... https://th.jobsdb.com/th/information-technology-jobs-in-bangkok/1?Key=data%20scientist\n",
      "Loaded! Time taken: 3.08 seconds\n"
     ]
    },
    {
     "name": "stderr",
     "output_type": "stream",
     "text": [
      "scraping...:   5%|▍         | 1/21 [00:25<08:37, 25.88s/it]"
     ]
    },
    {
     "name": "stdout",
     "output_type": "stream",
     "text": [
      "Loading content... https://th.jobsdb.com/th/information-technology-jobs-in-bangkok/1?Key=data%20scientist\n",
      "Loaded! Time taken: 3.53 seconds\n"
     ]
    },
    {
     "name": "stderr",
     "output_type": "stream",
     "text": [
      "scraping...:  10%|▉         | 2/21 [00:50<08:00, 25.30s/it]"
     ]
    },
    {
     "name": "stdout",
     "output_type": "stream",
     "text": [
      "Loading content... https://th.jobsdb.com/th/jobs/information-technology/2?Key=data%20scientist\n",
      "Loaded! Time taken: 3.28 seconds\n"
     ]
    },
    {
     "name": "stderr",
     "output_type": "stream",
     "text": [
      "scraping...:  14%|█▍        | 3/21 [01:15<07:27, 24.84s/it]"
     ]
    },
    {
     "name": "stdout",
     "output_type": "stream",
     "text": [
      "Loading content... https://th.jobsdb.com/th/jobs/information-technology/3?Key=data%20scientist\n",
      "Loaded! Time taken: 3.51 seconds\n"
     ]
    },
    {
     "name": "stderr",
     "output_type": "stream",
     "text": [
      "scraping...:  19%|█▉        | 4/21 [01:41<07:12, 25.44s/it]"
     ]
    },
    {
     "name": "stdout",
     "output_type": "stream",
     "text": [
      "Loading content... https://th.jobsdb.com/th/jobs/information-technology/4?Key=data%20scientist\n",
      "Loaded! Time taken: 3.73 seconds\n"
     ]
    },
    {
     "name": "stderr",
     "output_type": "stream",
     "text": [
      "scraping...:  24%|██▍       | 5/21 [02:09<07:01, 26.33s/it]"
     ]
    },
    {
     "name": "stdout",
     "output_type": "stream",
     "text": [
      "Loading content... https://th.jobsdb.com/th/jobs/information-technology/5?Key=data%20scientist\n",
      "Loaded! Time taken: 3.19 seconds\n",
      "AttributeError: 'NoneType' object has no attribute 'group'\n",
      "AttributeError: 'NoneType' object has no attribute 'group'\n"
     ]
    },
    {
     "name": "stderr",
     "output_type": "stream",
     "text": [
      "scraping...:  29%|██▊       | 6/21 [02:35<06:35, 26.37s/it]"
     ]
    },
    {
     "name": "stdout",
     "output_type": "stream",
     "text": [
      "Loading content... https://th.jobsdb.com/th/jobs/information-technology/6?Key=data%20scientist\n",
      "Loaded! Time taken: 3.27 seconds\n",
      "AttributeError: 'NoneType' object has no attribute 'group'\n"
     ]
    },
    {
     "name": "stderr",
     "output_type": "stream",
     "text": [
      "scraping...:  33%|███▎      | 7/21 [03:00<05:59, 25.71s/it]"
     ]
    },
    {
     "name": "stdout",
     "output_type": "stream",
     "text": [
      "Loading content... https://th.jobsdb.com/th/jobs/information-technology/7?Key=data%20scientist\n",
      "Loaded! Time taken: 3.38 seconds\n",
      "AttributeError: 'NoneType' object has no attribute 'group'\n"
     ]
    },
    {
     "name": "stderr",
     "output_type": "stream",
     "text": [
      "scraping...:  38%|███▊      | 8/21 [03:26<05:38, 26.05s/it]"
     ]
    },
    {
     "name": "stdout",
     "output_type": "stream",
     "text": [
      "Loading content... https://th.jobsdb.com/th/jobs/information-technology/8?Key=data%20scientist\n",
      "Loaded! Time taken: 3.54 seconds\n"
     ]
    },
    {
     "name": "stderr",
     "output_type": "stream",
     "text": [
      "scraping...:  43%|████▎     | 9/21 [03:51<05:08, 25.68s/it]"
     ]
    },
    {
     "name": "stdout",
     "output_type": "stream",
     "text": [
      "Loading content... https://th.jobsdb.com/th/jobs/information-technology/9?Key=data%20scientist\n",
      "Loaded! Time taken: 3.62 seconds\n"
     ]
    },
    {
     "name": "stderr",
     "output_type": "stream",
     "text": [
      "scraping...:  48%|████▊     | 10/21 [04:17<04:42, 25.64s/it]"
     ]
    },
    {
     "name": "stdout",
     "output_type": "stream",
     "text": [
      "Loading content... https://th.jobsdb.com/th/jobs/information-technology/10?Key=data%20scientist\n",
      "Loaded! Time taken: 3.59 seconds\n"
     ]
    },
    {
     "name": "stderr",
     "output_type": "stream",
     "text": [
      "scraping...:  52%|█████▏    | 11/21 [04:42<04:13, 25.40s/it]"
     ]
    },
    {
     "name": "stdout",
     "output_type": "stream",
     "text": [
      "Loading content... https://th.jobsdb.com/th/jobs/information-technology/11?Key=data%20scientist\n",
      "Loaded! Time taken: 3.42 seconds\n"
     ]
    },
    {
     "name": "stderr",
     "output_type": "stream",
     "text": [
      "scraping...:  57%|█████▋    | 12/21 [05:08<03:49, 25.55s/it]"
     ]
    },
    {
     "name": "stdout",
     "output_type": "stream",
     "text": [
      "Loading content... https://th.jobsdb.com/th/jobs/information-technology/12?Key=data%20scientist\n",
      "Loaded! Time taken: 3.43 seconds\n",
      "AttributeError: 'NoneType' object has no attribute 'group'\n"
     ]
    },
    {
     "name": "stderr",
     "output_type": "stream",
     "text": [
      "scraping...:  62%|██████▏   | 13/21 [05:32<03:22, 25.35s/it]"
     ]
    },
    {
     "name": "stdout",
     "output_type": "stream",
     "text": [
      "Loading content... https://th.jobsdb.com/th/jobs/information-technology/13?Key=data%20scientist\n",
      "Loaded! Time taken: 3.57 seconds\n"
     ]
    },
    {
     "name": "stderr",
     "output_type": "stream",
     "text": [
      "scraping...:  67%|██████▋   | 14/21 [05:59<03:00, 25.84s/it]"
     ]
    },
    {
     "name": "stdout",
     "output_type": "stream",
     "text": [
      "Loading content... https://th.jobsdb.com/th/jobs/information-technology/14?Key=data%20scientist\n",
      "Loaded! Time taken: 3.28 seconds\n",
      "AttributeError: 'NoneType' object has no attribute 'group'\n"
     ]
    },
    {
     "name": "stderr",
     "output_type": "stream",
     "text": [
      "scraping...:  71%|███████▏  | 15/21 [06:27<02:37, 26.30s/it]"
     ]
    },
    {
     "name": "stdout",
     "output_type": "stream",
     "text": [
      "Loading content... https://th.jobsdb.com/th/jobs/information-technology/15?Key=data%20scientist\n",
      "Loaded! Time taken: 3.23 seconds\n"
     ]
    },
    {
     "name": "stderr",
     "output_type": "stream",
     "text": [
      "scraping...:  76%|███████▌  | 16/21 [06:53<02:11, 26.21s/it]"
     ]
    },
    {
     "name": "stdout",
     "output_type": "stream",
     "text": [
      "Loading content... https://th.jobsdb.com/th/jobs/information-technology/16?Key=data%20scientist\n",
      "Loaded! Time taken: 4.03 seconds\n"
     ]
    },
    {
     "name": "stderr",
     "output_type": "stream",
     "text": [
      "scraping...:  81%|████████  | 17/21 [07:18<01:44, 26.05s/it]"
     ]
    },
    {
     "name": "stdout",
     "output_type": "stream",
     "text": [
      "Loading content... https://th.jobsdb.com/th/jobs/information-technology/17?Key=data%20scientist\n",
      "Loaded! Time taken: 3.41 seconds\n"
     ]
    },
    {
     "name": "stderr",
     "output_type": "stream",
     "text": [
      "scraping...:  86%|████████▌ | 18/21 [07:47<01:20, 26.74s/it]"
     ]
    },
    {
     "name": "stdout",
     "output_type": "stream",
     "text": [
      "Loading content... https://th.jobsdb.com/th/jobs/information-technology/18?Key=data%20scientist\n",
      "Loaded! Time taken: 3.33 seconds\n"
     ]
    },
    {
     "name": "stderr",
     "output_type": "stream",
     "text": [
      "scraping...:  90%|█████████ | 19/21 [08:15<00:54, 27.02s/it]"
     ]
    },
    {
     "name": "stdout",
     "output_type": "stream",
     "text": [
      "Loading content... https://th.jobsdb.com/th/jobs/information-technology/19?Key=data%20scientist\n",
      "Loaded! Time taken: 3.41 seconds\n"
     ]
    },
    {
     "name": "stderr",
     "output_type": "stream",
     "text": [
      "scraping...:  95%|█████████▌| 20/21 [08:40<00:26, 26.63s/it]"
     ]
    },
    {
     "name": "stdout",
     "output_type": "stream",
     "text": [
      "Loading content... https://th.jobsdb.com/th/jobs/information-technology/20?Key=data%20scientist\n",
      "Loaded! Time taken: 3.14 seconds\n",
      "AttributeError: 'NoneType' object has no attribute 'find_all'\n",
      "AttributeError: 'NoneType' object has no attribute 'find_all'\n"
     ]
    },
    {
     "name": "stderr",
     "output_type": "stream",
     "text": [
      "scraping...: 100%|██████████| 21/21 [09:05<00:00, 25.98s/it]"
     ]
    },
    {
     "name": "stdout",
     "output_type": "stream",
     "text": [
      "AttributeError: 'NoneType' object has no attribute 'find_all'\n"
     ]
    },
    {
     "name": "stderr",
     "output_type": "stream",
     "text": [
      "\n"
     ]
    }
   ],
   "source": [
    "df = jobsDB_scraper(keywords=keywords,\n",
    "                    location=location,\n",
    "                    job_function=job_function)"
   ]
  },
  {
   "cell_type": "markdown",
   "metadata": {},
   "source": [
    "# 5. Outcome"
   ]
  },
  {
   "cell_type": "code",
   "execution_count": 10,
   "metadata": {},
   "outputs": [
    {
     "data": {
      "text/html": [
       "<div>\n",
       "<style scoped>\n",
       "    .dataframe tbody tr th:only-of-type {\n",
       "        vertical-align: middle;\n",
       "    }\n",
       "\n",
       "    .dataframe tbody tr th {\n",
       "        vertical-align: top;\n",
       "    }\n",
       "\n",
       "    .dataframe thead th {\n",
       "        text-align: right;\n",
       "    }\n",
       "</style>\n",
       "<table border=\"1\" class=\"dataframe\">\n",
       "  <thead>\n",
       "    <tr style=\"text-align: right;\">\n",
       "      <th></th>\n",
       "      <th>position</th>\n",
       "      <th>company</th>\n",
       "      <th>location</th>\n",
       "      <th>salary</th>\n",
       "      <th>posted_datetime</th>\n",
       "      <th>education_level</th>\n",
       "      <th>year_of_work</th>\n",
       "      <th>job_highlight</th>\n",
       "      <th>job_desc</th>\n",
       "      <th>qualification</th>\n",
       "      <th>job_level</th>\n",
       "      <th>job_functions</th>\n",
       "      <th>job_type</th>\n",
       "      <th>company_website</th>\n",
       "      <th>company_overview</th>\n",
       "      <th>company_industry</th>\n",
       "      <th>company_benefits_incentives</th>\n",
       "      <th>url</th>\n",
       "    </tr>\n",
       "  </thead>\n",
       "  <tbody>\n",
       "    <tr>\n",
       "      <th>0</th>\n",
       "      <td>Data Scientist</td>\n",
       "      <td>GMM Grammy Public Company Limited</td>\n",
       "      <td>Wattana</td>\n",
       "      <td>None</td>\n",
       "      <td>2023-12-13</td>\n",
       "      <td>Degree</td>\n",
       "      <td>1.0</td>\n",
       "      <td>1-3 years of experience in Data Scientist/Adva...</td>\n",
       "      <td>{'Key Responsibilities:': ['Perform large-scal...</td>\n",
       "      <td>{'Briefly, we are looking for passionate data ...</td>\n",
       "      <td>None</td>\n",
       "      <td>Information Technology (IT), Others, Others, O...</td>\n",
       "      <td>Permanent</td>\n",
       "      <td>http://www.gmmgrammy.com</td>\n",
       "      <td>None</td>\n",
       "      <td>Entertainment/Recreation</td>\n",
       "      <td>Dental insurance, Life insurance, Medical insu...</td>\n",
       "      <td>https://th.jobsdb.com//th/en/job/data-scientis...</td>\n",
       "    </tr>\n",
       "    <tr>\n",
       "      <th>1</th>\n",
       "      <td>Data Scientist</td>\n",
       "      <td>KASIKORNBANK PUBLIC COMPANY LIMITED</td>\n",
       "      <td>Bangkok</td>\n",
       "      <td>None</td>\n",
       "      <td>2023-12-10 00:00:00</td>\n",
       "      <td>Degree</td>\n",
       "      <td>5.0</td>\n",
       "      <td>Data Scientist / Analytics Modeling/Experience...</td>\n",
       "      <td>{'Qualification:': ['Develop fraud management ...</td>\n",
       "      <td>{'Job Title : Data Scientist (Fraud Management...</td>\n",
       "      <td>Entry Level</td>\n",
       "      <td>Banking / Finance, Financial Services, Risk Ma...</td>\n",
       "      <td>Full Time, Permanent</td>\n",
       "      <td>None</td>\n",
       "      <td>Your Possibilities Begin at KBank \\n\\n\\nCustom...</td>\n",
       "      <td>Financial Services</td>\n",
       "      <td>Dental insurance, Medical insurance, Performan...</td>\n",
       "      <td>https://th.jobsdb.com//th/en/job/data-scientis...</td>\n",
       "    </tr>\n",
       "    <tr>\n",
       "      <th>2</th>\n",
       "      <td>Officer or Engineer – Hydrology Engineering  (...</td>\n",
       "      <td>CK Power Pubblic Comapany Limited</td>\n",
       "      <td>Dindaeng</td>\n",
       "      <td>None</td>\n",
       "      <td>2023-12-10 00:00:00</td>\n",
       "      <td>None</td>\n",
       "      <td>NaN</td>\n",
       "      <td>Hydrology Data Analyst/Hydropower/Geospatial</td>\n",
       "      <td>{}</td>\n",
       "      <td>{'Summary of Responsibilities:           The D...</td>\n",
       "      <td>None</td>\n",
       "      <td>Information Technology (IT), Data Scientist</td>\n",
       "      <td>Full Time</td>\n",
       "      <td>http://www.xayaburi.com</td>\n",
       "      <td>CKpower จดทะเบียนจัดตั้งเมื่อวันที่ 8 มิถุนายน...</td>\n",
       "      <td>Energy/Power/Water/Oil &amp; Gas/Waste Management</td>\n",
       "      <td>None</td>\n",
       "      <td>https://th.jobsdb.com//th/en/job/officer-or-en...</td>\n",
       "    </tr>\n",
       "    <tr>\n",
       "      <th>3</th>\n",
       "      <td>Perfect Store Manager (Data Scientist)</td>\n",
       "      <td>PepsiCo</td>\n",
       "      <td>Klongtoey</td>\n",
       "      <td>None</td>\n",
       "      <td>2023-12-11 00:00:00</td>\n",
       "      <td>Master</td>\n",
       "      <td>5.0</td>\n",
       "      <td>Masters degree in Business, Marketing,Engineer...</td>\n",
       "      <td>{'Main purpose of the role': ['      Work clos...</td>\n",
       "      <td>{'Main purpose of the roleThis individual will...</td>\n",
       "      <td>Senior</td>\n",
       "      <td>Sales, CS &amp; Business Devpt, Sales Management, ...</td>\n",
       "      <td>Full Time, Permanent</td>\n",
       "      <td>http://www.PepsiCo.com</td>\n",
       "      <td>About PepsiCo\\nPepsiCo products are enjoyed by...</td>\n",
       "      <td>Trading and Distribution</td>\n",
       "      <td>Dental insurance, Life insurance, Five-day wor...</td>\n",
       "      <td>https://th.jobsdb.com//th/en/job/perfect-store...</td>\n",
       "    </tr>\n",
       "    <tr>\n",
       "      <th>4</th>\n",
       "      <td>Data Scientist, Credit Risk Model (True Money)</td>\n",
       "      <td>Ascend Group Co., Ltd.</td>\n",
       "      <td>Bangkok</td>\n",
       "      <td>None</td>\n",
       "      <td>2023-12-10 00:00:00</td>\n",
       "      <td>Degree</td>\n",
       "      <td>2.0</td>\n",
       "      <td>Good Location/Attractive Benefit/Friendly Envi...</td>\n",
       "      <td>{'Responsibilities ': ['Develop and maintain r...</td>\n",
       "      <td>{'Job DescriptionWe are looking for a data sci...</td>\n",
       "      <td>Middle</td>\n",
       "      <td>Information Technology (IT), MIS, Programming ...</td>\n",
       "      <td>Full Time, Permanent</td>\n",
       "      <td>None</td>\n",
       "      <td>\\nAbout Ascend Group\\nAscend Group is more tha...</td>\n",
       "      <td>Information Technology</td>\n",
       "      <td>Dental insurance, Life insurance, Medical insu...</td>\n",
       "      <td>https://th.jobsdb.com//th/en/job/data-scientis...</td>\n",
       "    </tr>\n",
       "    <tr>\n",
       "      <th>...</th>\n",
       "      <td>...</td>\n",
       "      <td>...</td>\n",
       "      <td>...</td>\n",
       "      <td>...</td>\n",
       "      <td>...</td>\n",
       "      <td>...</td>\n",
       "      <td>...</td>\n",
       "      <td>...</td>\n",
       "      <td>...</td>\n",
       "      <td>...</td>\n",
       "      <td>...</td>\n",
       "      <td>...</td>\n",
       "      <td>...</td>\n",
       "      <td>...</td>\n",
       "      <td>...</td>\n",
       "      <td>...</td>\n",
       "      <td>...</td>\n",
       "      <td>...</td>\n",
       "    </tr>\n",
       "    <tr>\n",
       "      <th>616</th>\n",
       "      <td>Cybersecurity Analyst</td>\n",
       "      <td>GPV Asia (Thailand) Co., Ltd</td>\n",
       "      <td>Samutprakarn &gt; Muang</td>\n",
       "      <td>None</td>\n",
       "      <td>2023-11-28 00:00:00</td>\n",
       "      <td>Degree</td>\n",
       "      <td>1.0</td>\n",
       "      <td>Experience in security Operation Center/Backgr...</td>\n",
       "      <td>{}</td>\n",
       "      <td>{'Prime Function :2nd level support of company...</td>\n",
       "      <td>Entry Level</td>\n",
       "      <td>Professional Services, Business Analysis / Dat...</td>\n",
       "      <td>Full Time, Permanent</td>\n",
       "      <td>http://www.gpv.dk</td>\n",
       "      <td>GPV ASIA (THAILAND) CO., LTD.\\nGPV Asia (Thail...</td>\n",
       "      <td>Electronics/Electrical Equipment</td>\n",
       "      <td>Free shuttle bus, Life insurance, Medical insu...</td>\n",
       "      <td>https://th.jobsdb.com//th/en/job/cybersecurity...</td>\n",
       "    </tr>\n",
       "    <tr>\n",
       "      <th>617</th>\n",
       "      <td>Associate Client Relations Specialist - FSG Bu...</td>\n",
       "      <td>SS&amp;C FinTech Services (Thailand) Limited</td>\n",
       "      <td>Wattana</td>\n",
       "      <td>None</td>\n",
       "      <td>2023-11-28 00:00:00</td>\n",
       "      <td>Degree</td>\n",
       "      <td>1.0</td>\n",
       "      <td>Experience in application support role/Have kn...</td>\n",
       "      <td>{}</td>\n",
       "      <td>{'Provides daily client support, including res...</td>\n",
       "      <td>Entry Level</td>\n",
       "      <td>Information Technology (IT), Application Speci...</td>\n",
       "      <td>Full Time, Permanent</td>\n",
       "      <td>http://www.ssctech.com</td>\n",
       "      <td>SS&amp;C Technologies, Inc. (SS&amp;C)\\nwas founded in...</td>\n",
       "      <td>Information Technology</td>\n",
       "      <td>Dental insurance, Life insurance, Medical insu...</td>\n",
       "      <td>https://th.jobsdb.com//th/en/job/associate-cli...</td>\n",
       "    </tr>\n",
       "    <tr>\n",
       "      <th>618</th>\n",
       "      <td>New Grad - Java Software Engineer / Programmer...</td>\n",
       "      <td>Krungsri Bank (Bank of Ayudhya PCL.)</td>\n",
       "      <td>Yannawa</td>\n",
       "      <td>None</td>\n",
       "      <td>2023-11-28 00:00:00</td>\n",
       "      <td>Degree</td>\n",
       "      <td>NaN</td>\n",
       "      <td>Software Engineer , Programmer , Developer/Jav...</td>\n",
       "      <td>{'Responsibilities ': ['New grad of strong exp...</td>\n",
       "      <td>{'Software Engineer works as a technical devel...</td>\n",
       "      <td>Entry Level</td>\n",
       "      <td>Information Technology (IT), Application Speci...</td>\n",
       "      <td>Full Time, Permanent</td>\n",
       "      <td>http://www.krungsri.com</td>\n",
       "      <td>Krungsri is a strategic member of MUFG Bank, L...</td>\n",
       "      <td>Financial Services</td>\n",
       "      <td>Dental insurance, Life insurance, Medical insu...</td>\n",
       "      <td>https://th.jobsdb.com//th/en/job/new-grad-java...</td>\n",
       "    </tr>\n",
       "    <tr>\n",
       "      <th>619</th>\n",
       "      <td>Brokerage Operations Representative</td>\n",
       "      <td>SS&amp;C FinTech Services (Thailand) Limited</td>\n",
       "      <td>Wattana</td>\n",
       "      <td>None</td>\n",
       "      <td>2023-11-28 00:00:00</td>\n",
       "      <td>Degree</td>\n",
       "      <td>1.0</td>\n",
       "      <td>Work in an international environment/Flexible ...</td>\n",
       "      <td>{'Job Description:': ['Provides daily broker/d...</td>\n",
       "      <td>{'Responsible for reconciliation of cash, trad...</td>\n",
       "      <td>Entry Level</td>\n",
       "      <td>Information Technology (IT), Application Speci...</td>\n",
       "      <td>Full Time, Permanent</td>\n",
       "      <td>http://www.ssctech.com</td>\n",
       "      <td>SS&amp;C Technologies, Inc. (SS&amp;C)\\nwas founded in...</td>\n",
       "      <td>Information Technology</td>\n",
       "      <td>Dental insurance, Life insurance, Medical insu...</td>\n",
       "      <td>https://th.jobsdb.com//th/en/job/brokerage-ope...</td>\n",
       "    </tr>\n",
       "    <tr>\n",
       "      <th>620</th>\n",
       "      <td>Enterprise Architect</td>\n",
       "      <td>KING POWER CORPORATION CO., LTD.</td>\n",
       "      <td>Rajthevee</td>\n",
       "      <td>None</td>\n",
       "      <td>2023-11-28 00:00:00</td>\n",
       "      <td>Degree</td>\n",
       "      <td>5.0</td>\n",
       "      <td>Enterprise Architecture/Technology Governance/...</td>\n",
       "      <td>{'Key Responsibilities:': ['Assist in developi...</td>\n",
       "      <td>{'Key Responsibilities:Assist in developing an...</td>\n",
       "      <td>Senior</td>\n",
       "      <td>Information Technology (IT), Others</td>\n",
       "      <td>Full Time, Permanent</td>\n",
       "      <td>None</td>\n",
       "      <td>None</td>\n",
       "      <td>Others</td>\n",
       "      <td>Life insurance, Medical insurance, Performance...</td>\n",
       "      <td>https://th.jobsdb.com//th/en/job/enterprise-ar...</td>\n",
       "    </tr>\n",
       "  </tbody>\n",
       "</table>\n",
       "<p>621 rows × 18 columns</p>\n",
       "</div>"
      ],
      "text/plain": [
       "                                              position  \\\n",
       "0                                       Data Scientist   \n",
       "1                                       Data Scientist   \n",
       "2    Officer or Engineer – Hydrology Engineering  (...   \n",
       "3               Perfect Store Manager (Data Scientist)   \n",
       "4       Data Scientist, Credit Risk Model (True Money)   \n",
       "..                                                 ...   \n",
       "616                              Cybersecurity Analyst   \n",
       "617  Associate Client Relations Specialist - FSG Bu...   \n",
       "618  New Grad - Java Software Engineer / Programmer...   \n",
       "619                Brokerage Operations Representative   \n",
       "620                               Enterprise Architect   \n",
       "\n",
       "                                      company              location salary  \\\n",
       "0           GMM Grammy Public Company Limited               Wattana   None   \n",
       "1         KASIKORNBANK PUBLIC COMPANY LIMITED               Bangkok   None   \n",
       "2           CK Power Pubblic Comapany Limited              Dindaeng   None   \n",
       "3                                     PepsiCo             Klongtoey   None   \n",
       "4                      Ascend Group Co., Ltd.               Bangkok   None   \n",
       "..                                        ...                   ...    ...   \n",
       "616              GPV Asia (Thailand) Co., Ltd  Samutprakarn > Muang   None   \n",
       "617  SS&C FinTech Services (Thailand) Limited               Wattana   None   \n",
       "618      Krungsri Bank (Bank of Ayudhya PCL.)               Yannawa   None   \n",
       "619  SS&C FinTech Services (Thailand) Limited               Wattana   None   \n",
       "620          KING POWER CORPORATION CO., LTD.             Rajthevee   None   \n",
       "\n",
       "         posted_datetime education_level  year_of_work  \\\n",
       "0             2023-12-13          Degree           1.0   \n",
       "1    2023-12-10 00:00:00          Degree           5.0   \n",
       "2    2023-12-10 00:00:00            None           NaN   \n",
       "3    2023-12-11 00:00:00          Master           5.0   \n",
       "4    2023-12-10 00:00:00          Degree           2.0   \n",
       "..                   ...             ...           ...   \n",
       "616  2023-11-28 00:00:00          Degree           1.0   \n",
       "617  2023-11-28 00:00:00          Degree           1.0   \n",
       "618  2023-11-28 00:00:00          Degree           NaN   \n",
       "619  2023-11-28 00:00:00          Degree           1.0   \n",
       "620  2023-11-28 00:00:00          Degree           5.0   \n",
       "\n",
       "                                         job_highlight  \\\n",
       "0    1-3 years of experience in Data Scientist/Adva...   \n",
       "1    Data Scientist / Analytics Modeling/Experience...   \n",
       "2         Hydrology Data Analyst/Hydropower/Geospatial   \n",
       "3    Masters degree in Business, Marketing,Engineer...   \n",
       "4    Good Location/Attractive Benefit/Friendly Envi...   \n",
       "..                                                 ...   \n",
       "616  Experience in security Operation Center/Backgr...   \n",
       "617  Experience in application support role/Have kn...   \n",
       "618  Software Engineer , Programmer , Developer/Jav...   \n",
       "619  Work in an international environment/Flexible ...   \n",
       "620  Enterprise Architecture/Technology Governance/...   \n",
       "\n",
       "                                              job_desc  \\\n",
       "0    {'Key Responsibilities:': ['Perform large-scal...   \n",
       "1    {'Qualification:': ['Develop fraud management ...   \n",
       "2                                                   {}   \n",
       "3    {'Main purpose of the role': ['      Work clos...   \n",
       "4    {'Responsibilities ': ['Develop and maintain r...   \n",
       "..                                                 ...   \n",
       "616                                                 {}   \n",
       "617                                                 {}   \n",
       "618  {'Responsibilities ': ['New grad of strong exp...   \n",
       "619  {'Job Description:': ['Provides daily broker/d...   \n",
       "620  {'Key Responsibilities:': ['Assist in developi...   \n",
       "\n",
       "                                         qualification    job_level  \\\n",
       "0    {'Briefly, we are looking for passionate data ...         None   \n",
       "1    {'Job Title : Data Scientist (Fraud Management...  Entry Level   \n",
       "2    {'Summary of Responsibilities:           The D...         None   \n",
       "3    {'Main purpose of the roleThis individual will...       Senior   \n",
       "4    {'Job DescriptionWe are looking for a data sci...       Middle   \n",
       "..                                                 ...          ...   \n",
       "616  {'Prime Function :2nd level support of company...  Entry Level   \n",
       "617  {'Provides daily client support, including res...  Entry Level   \n",
       "618  {'Software Engineer works as a technical devel...  Entry Level   \n",
       "619  {'Responsible for reconciliation of cash, trad...  Entry Level   \n",
       "620  {'Key Responsibilities:Assist in developing an...       Senior   \n",
       "\n",
       "                                         job_functions              job_type  \\\n",
       "0    Information Technology (IT), Others, Others, O...             Permanent   \n",
       "1    Banking / Finance, Financial Services, Risk Ma...  Full Time, Permanent   \n",
       "2          Information Technology (IT), Data Scientist             Full Time   \n",
       "3    Sales, CS & Business Devpt, Sales Management, ...  Full Time, Permanent   \n",
       "4    Information Technology (IT), MIS, Programming ...  Full Time, Permanent   \n",
       "..                                                 ...                   ...   \n",
       "616  Professional Services, Business Analysis / Dat...  Full Time, Permanent   \n",
       "617  Information Technology (IT), Application Speci...  Full Time, Permanent   \n",
       "618  Information Technology (IT), Application Speci...  Full Time, Permanent   \n",
       "619  Information Technology (IT), Application Speci...  Full Time, Permanent   \n",
       "620                Information Technology (IT), Others  Full Time, Permanent   \n",
       "\n",
       "              company_website  \\\n",
       "0    http://www.gmmgrammy.com   \n",
       "1                        None   \n",
       "2     http://www.xayaburi.com   \n",
       "3      http://www.PepsiCo.com   \n",
       "4                        None   \n",
       "..                        ...   \n",
       "616         http://www.gpv.dk   \n",
       "617    http://www.ssctech.com   \n",
       "618   http://www.krungsri.com   \n",
       "619    http://www.ssctech.com   \n",
       "620                      None   \n",
       "\n",
       "                                      company_overview  \\\n",
       "0                                                 None   \n",
       "1    Your Possibilities Begin at KBank \\n\\n\\nCustom...   \n",
       "2    CKpower จดทะเบียนจัดตั้งเมื่อวันที่ 8 มิถุนายน...   \n",
       "3    About PepsiCo\\nPepsiCo products are enjoyed by...   \n",
       "4    \\nAbout Ascend Group\\nAscend Group is more tha...   \n",
       "..                                                 ...   \n",
       "616  GPV ASIA (THAILAND) CO., LTD.\\nGPV Asia (Thail...   \n",
       "617  SS&C Technologies, Inc. (SS&C)\\nwas founded in...   \n",
       "618  Krungsri is a strategic member of MUFG Bank, L...   \n",
       "619  SS&C Technologies, Inc. (SS&C)\\nwas founded in...   \n",
       "620                                               None   \n",
       "\n",
       "                                  company_industry  \\\n",
       "0                         Entertainment/Recreation   \n",
       "1                               Financial Services   \n",
       "2    Energy/Power/Water/Oil & Gas/Waste Management   \n",
       "3                         Trading and Distribution   \n",
       "4                           Information Technology   \n",
       "..                                             ...   \n",
       "616               Electronics/Electrical Equipment   \n",
       "617                         Information Technology   \n",
       "618                             Financial Services   \n",
       "619                         Information Technology   \n",
       "620                                         Others   \n",
       "\n",
       "                           company_benefits_incentives  \\\n",
       "0    Dental insurance, Life insurance, Medical insu...   \n",
       "1    Dental insurance, Medical insurance, Performan...   \n",
       "2                                                 None   \n",
       "3    Dental insurance, Life insurance, Five-day wor...   \n",
       "4    Dental insurance, Life insurance, Medical insu...   \n",
       "..                                                 ...   \n",
       "616  Free shuttle bus, Life insurance, Medical insu...   \n",
       "617  Dental insurance, Life insurance, Medical insu...   \n",
       "618  Dental insurance, Life insurance, Medical insu...   \n",
       "619  Dental insurance, Life insurance, Medical insu...   \n",
       "620  Life insurance, Medical insurance, Performance...   \n",
       "\n",
       "                                                   url  \n",
       "0    https://th.jobsdb.com//th/en/job/data-scientis...  \n",
       "1    https://th.jobsdb.com//th/en/job/data-scientis...  \n",
       "2    https://th.jobsdb.com//th/en/job/officer-or-en...  \n",
       "3    https://th.jobsdb.com//th/en/job/perfect-store...  \n",
       "4    https://th.jobsdb.com//th/en/job/data-scientis...  \n",
       "..                                                 ...  \n",
       "616  https://th.jobsdb.com//th/en/job/cybersecurity...  \n",
       "617  https://th.jobsdb.com//th/en/job/associate-cli...  \n",
       "618  https://th.jobsdb.com//th/en/job/new-grad-java...  \n",
       "619  https://th.jobsdb.com//th/en/job/brokerage-ope...  \n",
       "620  https://th.jobsdb.com//th/en/job/enterprise-ar...  \n",
       "\n",
       "[621 rows x 18 columns]"
      ]
     },
     "execution_count": 10,
     "metadata": {},
     "output_type": "execute_result"
    }
   ],
   "source": [
    "df"
   ]
  },
  {
   "cell_type": "markdown",
   "metadata": {},
   "source": [
    "# 6. Data Check-up"
   ]
  },
  {
   "cell_type": "code",
   "execution_count": 11,
   "metadata": {},
   "outputs": [],
   "source": [
    "HC = HealthCheck()"
   ]
  },
  {
   "cell_type": "code",
   "execution_count": 12,
   "metadata": {},
   "outputs": [
    {
     "data": {
      "text/html": [
       "<style type=\"text/css\">\n",
       "#T_a71be_row0_col0, #T_a71be_row0_col1 {\n",
       "  background-color: #7f2704;\n",
       "  color: #f1f1f1;\n",
       "}\n",
       "#T_a71be_row1_col0, #T_a71be_row1_col1 {\n",
       "  background-color: #fdc38d;\n",
       "  color: #000000;\n",
       "}\n",
       "#T_a71be_row2_col0, #T_a71be_row2_col1 {\n",
       "  background-color: #fdce9e;\n",
       "  color: #000000;\n",
       "}\n",
       "#T_a71be_row3_col0, #T_a71be_row3_col1 {\n",
       "  background-color: #fdd7b1;\n",
       "  color: #000000;\n",
       "}\n",
       "#T_a71be_row4_col0, #T_a71be_row4_col1 {\n",
       "  background-color: #fedfc0;\n",
       "  color: #000000;\n",
       "}\n",
       "#T_a71be_row5_col0, #T_a71be_row5_col1 {\n",
       "  background-color: #fee0c3;\n",
       "  color: #000000;\n",
       "}\n",
       "#T_a71be_row6_col0, #T_a71be_row6_col1 {\n",
       "  background-color: #fee2c6;\n",
       "  color: #000000;\n",
       "}\n",
       "#T_a71be_row7_col0, #T_a71be_row7_col1 {\n",
       "  background-color: #ffeedd;\n",
       "  color: #000000;\n",
       "}\n",
       "#T_a71be_row8_col0, #T_a71be_row8_col1, #T_a71be_row9_col0, #T_a71be_row9_col1, #T_a71be_row10_col0, #T_a71be_row10_col1, #T_a71be_row11_col0, #T_a71be_row11_col1, #T_a71be_row12_col0, #T_a71be_row12_col1, #T_a71be_row13_col0, #T_a71be_row13_col1, #T_a71be_row14_col0, #T_a71be_row14_col1, #T_a71be_row15_col0, #T_a71be_row15_col1, #T_a71be_row16_col0, #T_a71be_row16_col1, #T_a71be_row17_col0, #T_a71be_row17_col1 {\n",
       "  background-color: #fff5eb;\n",
       "  color: #000000;\n",
       "}\n",
       "</style>\n",
       "<table id=\"T_a71be\">\n",
       "  <thead>\n",
       "    <tr>\n",
       "      <th class=\"blank level0\" >&nbsp;</th>\n",
       "      <th id=\"T_a71be_level0_col0\" class=\"col_heading level0 col0\" >Missing Values</th>\n",
       "      <th id=\"T_a71be_level0_col1\" class=\"col_heading level0 col1\" >Percentage Missing Values</th>\n",
       "    </tr>\n",
       "  </thead>\n",
       "  <tbody>\n",
       "    <tr>\n",
       "      <th id=\"T_a71be_level0_row0\" class=\"row_heading level0 row0\" >salary</th>\n",
       "      <td id=\"T_a71be_row0_col0\" class=\"data row0 col0\" >539</td>\n",
       "      <td id=\"T_a71be_row0_col1\" class=\"data row0 col1\" >86.795491</td>\n",
       "    </tr>\n",
       "    <tr>\n",
       "      <th id=\"T_a71be_level0_row1\" class=\"row_heading level0 row1\" >year_of_work</th>\n",
       "      <td id=\"T_a71be_row1_col0\" class=\"data row1 col0\" >161</td>\n",
       "      <td id=\"T_a71be_row1_col1\" class=\"data row1 col1\" >25.925926</td>\n",
       "    </tr>\n",
       "    <tr>\n",
       "      <th id=\"T_a71be_level0_row2\" class=\"row_heading level0 row2\" >company_website</th>\n",
       "      <td id=\"T_a71be_row2_col0\" class=\"data row2 col0\" >140</td>\n",
       "      <td id=\"T_a71be_row2_col1\" class=\"data row2 col1\" >22.544283</td>\n",
       "    </tr>\n",
       "    <tr>\n",
       "      <th id=\"T_a71be_level0_row3\" class=\"row_heading level0 row3\" >job_level</th>\n",
       "      <td id=\"T_a71be_row3_col0\" class=\"data row3 col0\" >112</td>\n",
       "      <td id=\"T_a71be_row3_col1\" class=\"data row3 col1\" >18.035427</td>\n",
       "    </tr>\n",
       "    <tr>\n",
       "      <th id=\"T_a71be_level0_row4\" class=\"row_heading level0 row4\" >company_benefits_incentives</th>\n",
       "      <td id=\"T_a71be_row4_col0\" class=\"data row4 col0\" >90</td>\n",
       "      <td id=\"T_a71be_row4_col1\" class=\"data row4 col1\" >14.492754</td>\n",
       "    </tr>\n",
       "    <tr>\n",
       "      <th id=\"T_a71be_level0_row5\" class=\"row_heading level0 row5\" >education_level</th>\n",
       "      <td id=\"T_a71be_row5_col0\" class=\"data row5 col0\" >86</td>\n",
       "      <td id=\"T_a71be_row5_col1\" class=\"data row5 col1\" >13.848631</td>\n",
       "    </tr>\n",
       "    <tr>\n",
       "      <th id=\"T_a71be_level0_row6\" class=\"row_heading level0 row6\" >posted_datetime</th>\n",
       "      <td id=\"T_a71be_row6_col0\" class=\"data row6 col0\" >82</td>\n",
       "      <td id=\"T_a71be_row6_col1\" class=\"data row6 col1\" >13.204509</td>\n",
       "    </tr>\n",
       "    <tr>\n",
       "      <th id=\"T_a71be_level0_row7\" class=\"row_heading level0 row7\" >company_overview</th>\n",
       "      <td id=\"T_a71be_row7_col0\" class=\"data row7 col0\" >32</td>\n",
       "      <td id=\"T_a71be_row7_col1\" class=\"data row7 col1\" >5.152979</td>\n",
       "    </tr>\n",
       "    <tr>\n",
       "      <th id=\"T_a71be_level0_row8\" class=\"row_heading level0 row8\" >position</th>\n",
       "      <td id=\"T_a71be_row8_col0\" class=\"data row8 col0\" >0</td>\n",
       "      <td id=\"T_a71be_row8_col1\" class=\"data row8 col1\" >0.000000</td>\n",
       "    </tr>\n",
       "    <tr>\n",
       "      <th id=\"T_a71be_level0_row9\" class=\"row_heading level0 row9\" >job_type</th>\n",
       "      <td id=\"T_a71be_row9_col0\" class=\"data row9 col0\" >0</td>\n",
       "      <td id=\"T_a71be_row9_col1\" class=\"data row9 col1\" >0.000000</td>\n",
       "    </tr>\n",
       "    <tr>\n",
       "      <th id=\"T_a71be_level0_row10\" class=\"row_heading level0 row10\" >company_industry</th>\n",
       "      <td id=\"T_a71be_row10_col0\" class=\"data row10 col0\" >0</td>\n",
       "      <td id=\"T_a71be_row10_col1\" class=\"data row10 col1\" >0.000000</td>\n",
       "    </tr>\n",
       "    <tr>\n",
       "      <th id=\"T_a71be_level0_row11\" class=\"row_heading level0 row11\" >qualification</th>\n",
       "      <td id=\"T_a71be_row11_col0\" class=\"data row11 col0\" >0</td>\n",
       "      <td id=\"T_a71be_row11_col1\" class=\"data row11 col1\" >0.000000</td>\n",
       "    </tr>\n",
       "    <tr>\n",
       "      <th id=\"T_a71be_level0_row12\" class=\"row_heading level0 row12\" >job_functions</th>\n",
       "      <td id=\"T_a71be_row12_col0\" class=\"data row12 col0\" >0</td>\n",
       "      <td id=\"T_a71be_row12_col1\" class=\"data row12 col1\" >0.000000</td>\n",
       "    </tr>\n",
       "    <tr>\n",
       "      <th id=\"T_a71be_level0_row13\" class=\"row_heading level0 row13\" >company</th>\n",
       "      <td id=\"T_a71be_row13_col0\" class=\"data row13 col0\" >0</td>\n",
       "      <td id=\"T_a71be_row13_col1\" class=\"data row13 col1\" >0.000000</td>\n",
       "    </tr>\n",
       "    <tr>\n",
       "      <th id=\"T_a71be_level0_row14\" class=\"row_heading level0 row14\" >job_desc</th>\n",
       "      <td id=\"T_a71be_row14_col0\" class=\"data row14 col0\" >0</td>\n",
       "      <td id=\"T_a71be_row14_col1\" class=\"data row14 col1\" >0.000000</td>\n",
       "    </tr>\n",
       "    <tr>\n",
       "      <th id=\"T_a71be_level0_row15\" class=\"row_heading level0 row15\" >job_highlight</th>\n",
       "      <td id=\"T_a71be_row15_col0\" class=\"data row15 col0\" >0</td>\n",
       "      <td id=\"T_a71be_row15_col1\" class=\"data row15 col1\" >0.000000</td>\n",
       "    </tr>\n",
       "    <tr>\n",
       "      <th id=\"T_a71be_level0_row16\" class=\"row_heading level0 row16\" >location</th>\n",
       "      <td id=\"T_a71be_row16_col0\" class=\"data row16 col0\" >0</td>\n",
       "      <td id=\"T_a71be_row16_col1\" class=\"data row16 col1\" >0.000000</td>\n",
       "    </tr>\n",
       "    <tr>\n",
       "      <th id=\"T_a71be_level0_row17\" class=\"row_heading level0 row17\" >url</th>\n",
       "      <td id=\"T_a71be_row17_col0\" class=\"data row17 col0\" >0</td>\n",
       "      <td id=\"T_a71be_row17_col1\" class=\"data row17 col1\" >0.000000</td>\n",
       "    </tr>\n",
       "  </tbody>\n",
       "</table>\n"
      ],
      "text/plain": [
       "<pandas.io.formats.style.Styler at 0x2a3290c0910>"
      ]
     },
     "execution_count": 12,
     "metadata": {},
     "output_type": "execute_result"
    }
   ],
   "source": [
    "HC.missing_check(data=df)"
   ]
  },
  {
   "cell_type": "code",
   "execution_count": 13,
   "metadata": {},
   "outputs": [
    {
     "data": {
      "text/plain": [
       "<AxesSubplot: >"
      ]
     },
     "execution_count": 13,
     "metadata": {},
     "output_type": "execute_result"
    },
    {
     "data": {
      "image/png": "[encoded data removed]",
      "text/plain": [
       "<Figure size 432x288 with 1 Axes>"
      ]
     },
     "metadata": {
      "needs_background": "light"
     },
     "output_type": "display_data"
    }
   ],
   "source": [
    "HC.dtype_check(data=df)"
   ]
  },
  {
   "cell_type": "code",
   "execution_count": 16,
   "metadata": {},
   "outputs": [
    {
     "data": {
      "text/plain": [
       "<AxesSubplot: >"
      ]
     },
     "execution_count": 16,
     "metadata": {},
     "output_type": "execute_result"
    },
    {
     "data": {
      "image/png": "[encoded data removed]",
      "text/plain": [
       "<Figure size 1800x720 with 3 Axes>"
      ]
     },
     "metadata": {
      "needs_background": "light"
     },
     "output_type": "display_data"
    }
   ],
   "source": [
    "HC.msno_bar(data=df)"
   ]
  },
  {
   "cell_type": "markdown",
   "metadata": {},
   "source": [
    "# 7. Export"
   ]
  },
  {
   "cell_type": "code",
   "execution_count": 15,
   "metadata": {},
   "outputs": [],
   "source": [
    "df.to_csv('jobsdb_data.csv', index=False)"
   ]
  }
 ],
 "metadata": {
  "kernelspec": {
   "display_name": "Python 3",
   "language": "python",
   "name": "python3"
  },
  "language_info": {
   "codemirror_mode": {
    "name": "ipython",
    "version": 3
   },
   "file_extension": ".py",
   "mimetype": "text/x-python",
   "name": "python",
   "nbconvert_exporter": "python",
   "pygments_lexer": "ipython3",
   "version": "3.10.5"
  }
 },
 "nbformat": 4,
 "nbformat_minor": 2
}
